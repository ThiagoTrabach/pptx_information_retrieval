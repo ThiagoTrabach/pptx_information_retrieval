{
 "cells": [
  {
   "cell_type": "code",
   "execution_count": 11,
   "metadata": {
    "collapsed": true
   },
   "outputs": [],
   "source": [
    "from pptx import Presentation\n",
    "from docx import Document\n",
    "from os import listdir, stat\n",
    "from collections import defaultdict\n"
   ]
  },
  {
   "cell_type": "code",
   "execution_count": 12,
   "metadata": {
    "collapsed": true
   },
   "outputs": [],
   "source": [
    "def get_data_pptx(document):\n",
    "    \n",
    "    #load the document into a python object\n",
    "    prs = Presentation(document)\n",
    "    \n",
    "    #create output\n",
    "    data = {}\n",
    "    \n",
    "    #retrieve metadata\n",
    "    data['metadados'] = dict(author = prs.core_properties.author,\n",
    "                             created = prs.core_properties.created,\n",
    "                             last_modified = prs.core_properties.modified,\n",
    "                             file_path = document,\n",
    "                             mb_size = stat(document).st_size/1000000\n",
    "                            )\n",
    "\n",
    "    \n",
    "    #retrieve text\n",
    "    text_runs = []\n",
    "    \n",
    "    for slide in prs.slides:\n",
    "        for shape in slide.shapes:\n",
    "            if not shape.has_text_frame:\n",
    "                continue\n",
    "            for paragraph in shape.text_frame.paragraphs:\n",
    "                for run in paragraph.runs:\n",
    "                    text_runs.append(run.text)\n",
    "    \n",
    "    data['text'] = text_runs\n",
    "    \n",
    "    \n",
    "    return data"
   ]
  },
  {
   "cell_type": "code",
   "execution_count": 13,
   "metadata": {
    "collapsed": true
   },
   "outputs": [],
   "source": [
    "def get_data_docx(document):\n",
    "    \n",
    "    #load the document into a python object\n",
    "    doc = Document(document)\n",
    "    \n",
    "    #create output\n",
    "    data = {}\n",
    "    \n",
    "    #retrieve metadata\n",
    "    data['metadados'] = dict(author = doc.core_properties.author,\n",
    "                             created = doc.core_properties.created,\n",
    "                             last_modified = doc.core_properties.modified,\n",
    "                             file_path = document,\n",
    "                             mb_size = stat(document).st_size/1000000\n",
    "                            )\n",
    "    \n",
    "    \n",
    "    #retrieve text\n",
    "    text_runs = []\n",
    "    \n",
    "    for paragraph in doc.paragraphs:\n",
    "        for run in paragraph.runs:\n",
    "            text_runs.append(run.text)\n",
    "    \n",
    "    data['text'] = text_runs\n",
    "  \n",
    "    \n",
    "    return data"
   ]
  },
  {
   "cell_type": "markdown",
   "metadata": {},
   "source": [
    "Teste PPTX"
   ]
  },
  {
   "cell_type": "code",
   "execution_count": 1,
   "metadata": {},
   "outputs": [
    {
     "data": {
      "text/plain": [
       "\"file_path = 'relatorios/' + listdir('relatorios/')[2]\\ndados = get_data_pptx(file_path)\\n\\ndados\""
      ]
     },
     "execution_count": 1,
     "metadata": {},
     "output_type": "execute_result"
    }
   ],
   "source": [
    "'''file_path = 'relatorios/' + listdir('relatorios/')[2]\n",
    "dados = get_data_pptx(file_path)\n",
    "\n",
    "dados'''"
   ]
  },
  {
   "cell_type": "code",
   "execution_count": 2,
   "metadata": {},
   "outputs": [
    {
     "data": {
      "text/plain": [
       "\"listdir('relatorios/')[2]\""
      ]
     },
     "execution_count": 2,
     "metadata": {},
     "output_type": "execute_result"
    }
   ],
   "source": [
    "'''listdir('relatorios/')[2]'''"
   ]
  },
  {
   "cell_type": "markdown",
   "metadata": {},
   "source": [
    "Teste DOCX"
   ]
  },
  {
   "cell_type": "code",
   "execution_count": 3,
   "metadata": {},
   "outputs": [
    {
     "data": {
      "text/plain": [
       "\"\\nfile_path = 'relatorios/' + listdir('relatorios/')[5]\\ndados = get_data_docx(file_path)\\n\\ndados\\n\""
      ]
     },
     "execution_count": 3,
     "metadata": {},
     "output_type": "execute_result"
    }
   ],
   "source": [
    "'''\n",
    "file_path = 'relatorios/' + listdir('relatorios/')[5]\n",
    "dados = get_data_docx(file_path)\n",
    "\n",
    "dados\n",
    "'''"
   ]
  },
  {
   "cell_type": "code",
   "execution_count": null,
   "metadata": {
    "collapsed": true
   },
   "outputs": [],
   "source": []
  }
 ],
 "metadata": {
  "kernelspec": {
   "display_name": "Python 3",
   "language": "python",
   "name": "python3"
  },
  "language_info": {
   "codemirror_mode": {
    "name": "ipython",
    "version": 3
   },
   "file_extension": ".py",
   "mimetype": "text/x-python",
   "name": "python",
   "nbconvert_exporter": "python",
   "pygments_lexer": "ipython3",
   "version": "3.5.2"
  }
 },
 "nbformat": 4,
 "nbformat_minor": 2
}
