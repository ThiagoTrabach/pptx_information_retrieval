{
 "cells": [
  {
   "cell_type": "code",
   "execution_count": 18,
   "metadata": {
    "collapsed": true
   },
   "outputs": [],
   "source": [
    "import os\n",
    "import pandas as pd\n",
    "import pptx, docx\n",
    "from multiprocessing import Pool\n",
    "import tqdm"
   ]
  },
  {
   "cell_type": "code",
   "execution_count": 25,
   "metadata": {
    "collapsed": true
   },
   "outputs": [],
   "source": [
    "def acessar_arquivos(Tema = 'All'):\n",
    "    \n",
    "    \"\"\"Lista todos os caminhos possíveis da pasta raiz até todas as subpastas, acessa todos esses caminhos \n",
    "       e recupera as informações que estão em ppt ou word.\n",
    "       \n",
    "    param:\n",
    "     Tema: Caso precise ser pego só um tema de trabalho, fazer com que Tema seja igual ao nome da pasta do tema relacionado\n",
    "    \n",
    "    \"\"\"\n",
    "    \n",
    "    dados_finais = {}\n",
    "    arquivos_error = {}\n",
    "    \n",
    "    if Tema == \"All\":\n",
    "        \n",
    "        lista_path = [[x[0] for x in os.walk(i)] for i in os.listdir() if ('.' not in i[0] and '.ipynb' not in i and '\\uf00d' not in i)]\n",
    "        \n",
    "        for _,tema in tqdm.tqdm(enumerate(lista_path), total = len(lista_path)):\n",
    "            for _,path in tqdm.tqdm(enumerate(tema), total = len(tema)):\n",
    "                \n",
    "                dados_finais.update(arquivos_da_pasta(path)[0])\n",
    "                arquivos_error.update(arquivos_da_pasta(path)[1])\n",
    "        \n",
    "    else:\n",
    "        \n",
    "        lista_path = [x[0] for x in os.walk(Tema)]\n",
    "        \n",
    "        for _, path in tqdm.tqdm(enumerate(lista_path), total = len(lista_path)):\n",
    "                dados_finais.update(arquivos_da_pasta(path)[0])\n",
    "                arquivos_error.update(arquivos_da_pasta(path)[1])\n",
    "                                            \n",
    "    return dados_finais, arquivos_error"
   ]
  },
  {
   "cell_type": "code",
   "execution_count": 26,
   "metadata": {
    "collapsed": true
   },
   "outputs": [],
   "source": [
    "def arquivos_da_pasta(path):\n",
    "    \n",
    "    \"\"\"Dado um caminho ele recupera todas as informações no formato de ppt daquele caminho\n",
    "    \n",
    "    param:\n",
    "     path: Caminho de onde estão os arquivos que você quer recuperar\n",
    "    \"\"\"\n",
    "    \n",
    "    dados_path = {}\n",
    "    error = {}\n",
    "    \n",
    "    aux_arquivos = os.listdir(path)\n",
    "    aux_arquivos = [arquivo for arquivo in aux_arquivos if os.stat(os.path.join(path,arquivo)).st_size > 10240]\n",
    "    aux_arquivos = [arquivo for arquivo in aux_arquivos if '.ppt' in arquivo or '.doc' in arquivo]\n",
    "    \n",
    "    \n",
    "    for documento in aux_arquivos:\n",
    "        \n",
    "        if '.ppt' in documento:\n",
    "        \n",
    "            try: \n",
    "                texto = pptx.Presentation(os.path.join(path, documento))\n",
    "                dados_path.update({documento: texto})\n",
    "            except:\n",
    "                error.update({documento: path})\n",
    "                \n",
    "        else:\n",
    "            \n",
    "            try: \n",
    "                texto = docx.Presentation(os.path.join(path, documento))\n",
    "                dados_path.update({documento: texto})\n",
    "            except:\n",
    "                error.update({documento: path})\n",
    "            \n",
    "            \n",
    "    return dados_path, error"
   ]
  },
  {
   "cell_type": "code",
   "execution_count": null,
   "metadata": {},
   "outputs": [
    {
     "name": "stderr",
     "output_type": "stream",
     "text": [
      "  2%|▏         | 22/950 [00:03<10:27,  1.48it/s]"
     ]
    }
   ],
   "source": [
    "teste_dados, teste_error = acessar_arquivos('Shopping Center')"
   ]
  },
  {
   "cell_type": "code",
   "execution_count": 9,
   "metadata": {},
   "outputs": [
    {
     "name": "stdout",
     "output_type": "stream",
     "text": [
      "RF-Gerenciamento pela Diretrizes_V3.pptm\n",
      "RF-Gerenciamento pela Diretrizes Projeto GOL.pptm\n",
      "RF-Gerenciamento pela Diretrizes_V2.pptm\n",
      "RF-Gerenciamento pela Diretrizes_V4.pptm\n",
      "RF-Gerenciamento pela Diretrizes_V1.pptm\n",
      "RF-Gerenciamento pela Diretrizes.pptm\n"
     ]
    }
   ],
   "source": [
    "for i in teste_dados.keys():\n",
    "    if 'pptx' not in i:\n",
    "        print(i)"
   ]
  },
  {
   "cell_type": "code",
   "execution_count": 23,
   "metadata": {
    "collapsed": true
   },
   "outputs": [],
   "source": [
    "del teste_dados, teste_corrompidos"
   ]
  },
  {
   "cell_type": "code",
   "execution_count": 11,
   "metadata": {},
   "outputs": [
    {
     "data": {
      "text/plain": [
       "45"
      ]
     },
     "execution_count": 11,
     "metadata": {},
     "output_type": "execute_result"
    }
   ],
   "source": [
    "len(teste_corrompidos.keys())"
   ]
  },
  {
   "cell_type": "code",
   "execution_count": 12,
   "metadata": {
    "collapsed": true
   },
   "outputs": [],
   "source": [
    "teste = ['aaa.pptx', 'sdasd', 'teste.doc', 'vai']"
   ]
  },
  {
   "cell_type": "code",
   "execution_count": 15,
   "metadata": {
    "collapsed": true
   },
   "outputs": [],
   "source": [
    "aux_arquivos = [arquivo for arquivo in teste if '.ppt' in arquivo or '.doc' in arquivo]"
   ]
  },
  {
   "cell_type": "code",
   "execution_count": 16,
   "metadata": {},
   "outputs": [
    {
     "data": {
      "text/plain": [
       "['aaa.pptx', 'teste.doc']"
      ]
     },
     "execution_count": 16,
     "metadata": {},
     "output_type": "execute_result"
    }
   ],
   "source": [
    "aux_arquivos"
   ]
  },
  {
   "cell_type": "code",
   "execution_count": null,
   "metadata": {
    "collapsed": true
   },
   "outputs": [],
   "source": []
  }
 ],
 "metadata": {
  "kernelspec": {
   "display_name": "Python 3",
   "language": "python",
   "name": "python3"
  },
  "language_info": {
   "codemirror_mode": {
    "name": "ipython",
    "version": 3
   },
   "file_extension": ".py",
   "mimetype": "text/x-python",
   "name": "python",
   "nbconvert_exporter": "python",
   "pygments_lexer": "ipython3",
   "version": "3.5.2"
  }
 },
 "nbformat": 4,
 "nbformat_minor": 2
}
