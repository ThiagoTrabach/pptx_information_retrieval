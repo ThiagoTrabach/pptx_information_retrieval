{
 "cells": [
  {
   "cell_type": "code",
   "execution_count": 19,
   "metadata": {},
   "outputs": [],
   "source": [
    "import os\n",
    "import pandas as pd\n",
    "import pptx, docx\n",
    "from multiprocessing import Pool\n",
    "import tqdm\n",
    "\n",
    "#Importando programação criada pelo Thiago.\n",
    "import files_indexing"
   ]
  },
  {
   "cell_type": "code",
   "execution_count": 20,
   "metadata": {
    "collapsed": true
   },
   "outputs": [],
   "source": [
    "def acessar_arquivos(Tema = 'All'):\n",
    "    \n",
    "    \"\"\"Lista todos os caminhos possíveis da pasta raiz até todas as subpastas, acessa todos esses caminhos \n",
    "       e recupera as informações que estão em ppt ou word.\n",
    "       \n",
    "    param:\n",
    "     Tema: Caso precise ser pego só um tema de trabalho, fazer com que Tema seja igual ao nome da pasta do tema relacionado\n",
    "    \n",
    "    \"\"\"\n",
    "    \n",
    "    # Objetos que iram receber as informações finais \n",
    "    dados_finais = {}\n",
    "    arquivos_error = {}\n",
    "    \n",
    "    if Tema == \"All\":\n",
    "        \n",
    "        #O for a seguir será um conunto de listas, cada lista possui todos os caminhos de um determinado tema\n",
    "        lista_path = [[x[0] for x in os.walk(i)] for i in os.listdir() if ('.' not in i[0] and '.ipynb' not in i and '\\uf00d' not in i)]\n",
    "        \n",
    "        #Primeiro for é para passar na lista de temas e o segundo em todos caminhos de cada tema\n",
    "        for tema in tqdm.tqdm(lista_path, total = len(lista_path)):\n",
    "            for path in tqdm.tqdm(tema, total = len(tema)):\n",
    "                \n",
    "                dados_finais.update(arquivos_da_pasta(path)[0])\n",
    "                arquivos_error.update(arquivos_da_pasta(path)[1])\n",
    "        \n",
    "    else:\n",
    "        \n",
    "        #Possui um for a menos, porque já começa do Tema\n",
    "        lista_path = [x[0] for x in os.walk(Tema)]\n",
    "        \n",
    "        for path in tqdm.tqdm(lista_path, total = len(lista_path)):\n",
    "                dados_finais.update(arquivos_da_pasta(path)[0])\n",
    "                arquivos_error.update(arquivos_da_pasta(path)[1])\n",
    "                                            \n",
    "    return dados_finais, arquivos_error"
   ]
  },
  {
   "cell_type": "code",
   "execution_count": 21,
   "metadata": {
    "collapsed": true
   },
   "outputs": [],
   "source": [
    "def arquivos_da_pasta(path):\n",
    "    \n",
    "    \"\"\"Dado um caminho ele recupera todas as informações no formato de ppt daquele caminho\n",
    "    \n",
    "    param:\n",
    "     path: Caminho de onde estão os arquivos que você quer recuperar\n",
    "    \"\"\"\n",
    "    \n",
    "    #Objetos para receberem valores\n",
    "    dados_path = {}\n",
    "    error = {}\n",
    "    \n",
    "    #Pegando o nome de todos os arquivos, vendo quais são maiores que 10kb e os que tem extensão doc, docx, ppt, pptx\n",
    "    aux_arquivos = os.listdir(path)\n",
    "    aux_arquivos = [arquivo for arquivo in aux_arquivos if os.stat(os.path.join(path,arquivo)).st_size > 10240]\n",
    "    aux_arquivos = [arquivo for arquivo in aux_arquivos if '.ppt' in arquivo or '.doc' in arquivo]\n",
    "    \n",
    "    \n",
    "    for documento in aux_arquivos:\n",
    "        \n",
    "        if '.ppt' in documento:\n",
    "            \n",
    "            #Irá testar a função criado pelo Thiago, caso der erro essa função salva o nome do arquivo e o caminho\n",
    "            try: \n",
    "                texto = files_indexing.get_data_pptx(os.path.join(path, documento))\n",
    "                dados_path.update({documento: texto})\n",
    "            except:\n",
    "                error.update({documento: path})\n",
    "                \n",
    "        else:\n",
    "            \n",
    "            #Irá testar a função criado pelo Thiago, caso der erro essa função salva o nome do arquivo e o caminho\n",
    "            try: \n",
    "                texto = files_indexing.get_data_docx(os.path.join(path, documento))\n",
    "                dados_path.update({documento: texto})\n",
    "            except:\n",
    "                error.update({documento: path})\n",
    "            \n",
    "            \n",
    "    return dados_path, error"
   ]
  },
  {
   "cell_type": "code",
   "execution_count": 6,
   "metadata": {},
   "outputs": [
    {
     "name": "stderr",
     "output_type": "stream",
     "text": [
      "100%|██████████| 950/950 [04:27<00:00,  3.55it/s] \n"
     ]
    }
   ],
   "source": [
    "teste_dados, teste_error = acessar_arquivos('Shopping Center')"
   ]
  },
  {
   "cell_type": "code",
   "execution_count": 13,
   "metadata": {},
   "outputs": [
    {
     "data": {
      "text/plain": [
       "527"
      ]
     },
     "execution_count": 13,
     "metadata": {},
     "output_type": "execute_result"
    }
   ],
   "source": [
    "len(teste_dados.keys())"
   ]
  },
  {
   "cell_type": "code",
   "execution_count": 11,
   "metadata": {},
   "outputs": [
    {
     "data": {
      "text/plain": [
       "45"
      ]
     },
     "execution_count": 11,
     "metadata": {},
     "output_type": "execute_result"
    }
   ],
   "source": [
    "len(teste_corrompidos.keys())"
   ]
  },
  {
   "cell_type": "code",
   "execution_count": 12,
   "metadata": {
    "collapsed": true
   },
   "outputs": [],
   "source": [
    "teste = ['aaa.pptx', 'sdasd', 'teste.doc', 'vai']"
   ]
  },
  {
   "cell_type": "code",
   "execution_count": 15,
   "metadata": {
    "collapsed": true
   },
   "outputs": [],
   "source": [
    "aux_arquivos = [arquivo for arquivo in teste if '.ppt' in arquivo or '.doc' in arquivo]"
   ]
  }
 ],
 "metadata": {
  "kernelspec": {
   "display_name": "Python 3",
   "language": "python",
   "name": "python3"
  },
  "language_info": {
   "codemirror_mode": {
    "name": "ipython",
    "version": 3
   },
   "file_extension": ".py",
   "mimetype": "text/x-python",
   "name": "python",
   "nbconvert_exporter": "python",
   "pygments_lexer": "ipython3",
   "version": "3.5.2"
  }
 },
 "nbformat": 4,
 "nbformat_minor": 2
}
